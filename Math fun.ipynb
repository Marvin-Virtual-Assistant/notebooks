{
 "cells": [
  {
   "cell_type": "code",
   "execution_count": 1,
   "metadata": {},
   "outputs": [],
   "source": [
    "from math import *"
   ]
  },
  {
   "cell_type": "code",
   "execution_count": 6,
   "metadata": {},
   "outputs": [],
   "source": [
    "inputCalculation = '2*pi + 5 + 6 √966 + 5 + 7^2'"
   ]
  },
  {
   "cell_type": "code",
   "execution_count": 33,
   "metadata": {},
   "outputs": [],
   "source": [
    "inputCalculation = '25*(√81 + 5)'"
   ]
  },
  {
   "cell_type": "code",
   "execution_count": 34,
   "metadata": {},
   "outputs": [],
   "source": [
    "error = False\n",
    "\n",
    "inputCalculation = inputCalculation.replace('2pi', 'tau')\n",
    "inputCalculation = inputCalculation.replace('2π', 'tau')\n",
    "inputCalculation = inputCalculation.replace('2*pi', 'tau')\n",
    "inputCalculation = inputCalculation.replace('2*π', 'tau')\n",
    "for digit in list(inputCalculation):\n",
    "    \n",
    "    if digit == '√':\n",
    "        \n",
    "        rootAt = inputCalculation.index('√')\n",
    "        cleaner = ''\n",
    "        \n",
    "        count = rootAt\n",
    "        while count < len(inputCalculation):\n",
    "            count += 1\n",
    "            if not inputCalculation[count:count + 1].isnumeric():\n",
    "                break\n",
    "        \n",
    "        i = rootAt\n",
    "        while i >= 0:\n",
    "            if inputCalculation[i:i + 1] == ')' or inputCalculation[i:i + 1].isnumeric():\n",
    "                cleaner = '*'\n",
    "                break\n",
    "            elif inputCalculation[i:i + 1] == '+' or inputCalculation[i:i + 1] == '-' or inputCalculation[i:i + 1] == '/' or inputCalculation[i:i + 1] == '*' or inputCalculation[i:i + 1] == '(':\n",
    "                break\n",
    "            i -= 1\n",
    "                        \n",
    "        inputCalculation = inputCalculation[:rootAt] + cleaner + 'sqrt(' + inputCalculation[rootAt + 1: count] + ')' + inputCalculation[count:]\n",
    "    \n",
    "    elif digit == '^':\n",
    "        \n",
    "        powerAt = inputCalculation.index('^')\n",
    "        \n",
    "        value1 = 0\n",
    "        value2 = 0\n",
    "        start = 0\n",
    "        end = 0\n",
    "        \n",
    "        if inputCalculation[powerAt - 1:powerAt].isnumeric():\n",
    "            \n",
    "            count = powerAt\n",
    "            notFound = True\n",
    "            while count < len(inputCalculation) and notFound:\n",
    "                count -= 1\n",
    "                if not inputCalculation[count:count + 1].isnumeric():\n",
    "                    notFound = False\n",
    "            value1 = eval(inputCalculation[count:powerAt])\n",
    "            start = count\n",
    "\n",
    "        elif inputCalculation[powerAt - 1:powerAt] == ')':\n",
    "            \n",
    "            count = powerAt - 1\n",
    "            notFound = True\n",
    "            \n",
    "            while count > 0 and notFound:\n",
    "                count -= 1\n",
    "                if inputCalculation[count:count + 1] == '(':\n",
    "                    notFound = False\n",
    "            \n",
    "            if notFound:\n",
    "                error = True\n",
    "            value1 = eval(inputCalculation[count + 1:powerAt - 1])\n",
    "            start = count\n",
    "            \n",
    "        if inputCalculation[powerAt + 1:powerAt + 2].isnumeric():\n",
    "            \n",
    "            count = powerAt\n",
    "            notFound = True\n",
    "            while count < len(inputCalculation) and notFound:\n",
    "                count += 1\n",
    "                if not inputCalculation[count:count + 1].isnumeric():\n",
    "                    notFound = False\n",
    "            \n",
    "            value2 = eval(inputCalculation[powerAt + 1:count])\n",
    "            end = count + 1\n",
    "\n",
    "        elif inputCalculation[powerAt + 1:powerAt + 2] == '(':\n",
    "            \n",
    "            count = powerAt + 1\n",
    "            notFound = True\n",
    "            \n",
    "            while count > 0 and notFound:\n",
    "                count += 1\n",
    "                if inputCalculation[count:count + 1] == ')':\n",
    "                    notFound = False\n",
    "            \n",
    "            if notFound:\n",
    "                error = True\n",
    "            \n",
    "            value2 = eval(inputCalculation[powerAt + 1:count - 1])\n",
    "            end = count + 1\n",
    "        \n",
    "        value = pow(value1, value2)\n",
    "        inputCalculation = inputCalculation[:start] + repr(value) + inputCalculation[end:]"
   ]
  },
  {
   "cell_type": "code",
   "execution_count": 35,
   "metadata": {},
   "outputs": [
    {
     "name": "stdout",
     "output_type": "stream",
     "text": [
      "25*(sqrt(81) + 5)\n",
      "350.0\n"
     ]
    }
   ],
   "source": [
    "print(inputCalculation)\n",
    "print(eval(inputCalculation))"
   ]
  },
  {
   "cell_type": "code",
   "execution_count": null,
   "metadata": {},
   "outputs": [],
   "source": [
    "'+'.isnumeric()"
   ]
  },
  {
   "cell_type": "code",
   "execution_count": 41,
   "metadata": {},
   "outputs": [
    {
     "name": "stdout",
     "output_type": "stream",
     "text": [
      "WOW\n"
     ]
    }
   ],
   "source": [
    "try:\n",
    "    try:\n",
    "        value = pow((-5),2.5)\n",
    "    except ValueError:\n",
    "        print('WOW')\n",
    "except BaseException:\n",
    "    print('Error')"
   ]
  },
  {
   "cell_type": "code",
   "execution_count": 8,
   "metadata": {},
   "outputs": [
    {
     "name": "stdout",
     "output_type": "stream",
     "text": [
      "1.0\n"
     ]
    }
   ],
   "source": [
    "print(pow(0,0))"
   ]
  },
  {
   "cell_type": "code",
   "execution_count": 1,
   "metadata": {},
   "outputs": [
    {
     "data": {
      "text/plain": [
       "500"
      ]
     },
     "execution_count": 1,
     "metadata": {},
     "output_type": "execute_result"
    }
   ],
   "source": [
    "eval('500')"
   ]
  },
  {
   "cell_type": "code",
   "execution_count": 11,
   "metadata": {},
   "outputs": [
    {
     "ename": "SyntaxError",
     "evalue": "invalid syntax (<string>, line 1)",
     "output_type": "error",
     "traceback": [
      "Traceback \u001b[0;36m(most recent call last)\u001b[0m:\n",
      "  File \u001b[1;32m\"/Users/rafael/Documents/Programming/notebooks/marvin/venv/lib/python3.8/site-packages/IPython/core/interactiveshell.py\"\u001b[0m, line \u001b[1;32m3319\u001b[0m, in \u001b[1;35mrun_code\u001b[0m\n    exec(code_obj, self.user_global_ns, self.user_ns)\n",
      "\u001b[0;36m  File \u001b[0;32m\"<ipython-input-11-da578a2da6d8>\"\u001b[0;36m, line \u001b[0;32m1\u001b[0;36m, in \u001b[0;35m<module>\u001b[0;36m\u001b[0m\n\u001b[0;31m    eval('(5) sqrt(49)')\u001b[0m\n",
      "\u001b[0;36m  File \u001b[0;32m\"<string>\"\u001b[0;36m, line \u001b[0;32m1\u001b[0m\n\u001b[0;31m    (5) sqrt(49)\u001b[0m\n\u001b[0m        ^\u001b[0m\n\u001b[0;31mSyntaxError\u001b[0m\u001b[0;31m:\u001b[0m invalid syntax\n"
     ]
    }
   ],
   "source": [
    "eval('(5) sqrt(49)')"
   ]
  },
  {
   "cell_type": "code",
   "execution_count": 9,
   "metadata": {},
   "outputs": [
    {
     "data": {
      "text/plain": [
       "30"
      ]
     },
     "execution_count": 9,
     "metadata": {},
     "output_type": "execute_result"
    }
   ],
   "source": [
    "eval('5*(6)')"
   ]
  },
  {
   "cell_type": "code",
   "execution_count": 20,
   "metadata": {},
   "outputs": [
    {
     "data": {
      "text/plain": [
       "13.228756555322953"
      ]
     },
     "execution_count": 20,
     "metadata": {},
     "output_type": "execute_result"
    }
   ],
   "source": [
    "eval('5 * sqrt(7)')"
   ]
  },
  {
   "cell_type": "code",
   "execution_count": 39,
   "metadata": {},
   "outputs": [
    {
     "ename": "ValueError",
     "evalue": "math domain error",
     "output_type": "error",
     "traceback": [
      "\u001b[0;31m---------------------------------------------------------------------------\u001b[0m",
      "\u001b[0;31mValueError\u001b[0m                                Traceback (most recent call last)",
      "\u001b[0;32m<ipython-input-39-863a85da225a>\u001b[0m in \u001b[0;36m<module>\u001b[0;34m\u001b[0m\n\u001b[0;32m----> 1\u001b[0;31m \u001b[0mvalue\u001b[0m \u001b[0;34m=\u001b[0m \u001b[0mpow\u001b[0m\u001b[0;34m(\u001b[0m\u001b[0;34m(\u001b[0m\u001b[0;34m-\u001b[0m\u001b[0;36m5\u001b[0m\u001b[0;34m)\u001b[0m\u001b[0;34m,\u001b[0m\u001b[0;36m2.5\u001b[0m\u001b[0;34m)\u001b[0m\u001b[0;34m\u001b[0m\u001b[0;34m\u001b[0m\u001b[0m\n\u001b[0m",
      "\u001b[0;31mValueError\u001b[0m: math domain error"
     ]
    }
   ],
   "source": [
    "value = pow((-5),2.5)"
   ]
  },
  {
   "cell_type": "code",
   "execution_count": 50,
   "metadata": {},
   "outputs": [],
   "source": [
    "def cleanValue(value):\n",
    "    '''\n",
    "    Clean up integers that end in .0\n",
    "    '''\n",
    "\n",
    "    if value is None:\n",
    "        return value\n",
    "\n",
    "    if isinstance(value, float) and value.is_integer():\n",
    "        return int(value)\n",
    "\n",
    "    return value\n",
    "\n",
    "def calculatorMain(inputCalculation):\n",
    "\n",
    "    π = pi\n",
    "\n",
    "    inputCalculation = calculatorCleaning(inputCalculation)\n",
    "    inputCalculation = calculatorSqrt(inputCalculation)\n",
    "    inputCalculation = calculatorPower(inputCalculation)\n",
    "\n",
    "    if inputCalculation == 'Error':\n",
    "        return 'Error'\n",
    "\n",
    "    return repr(cleanValue(eval(inputCalculation)))\n",
    "\n",
    "\n",
    "def calculatorCleaning(inputCalculation):\n",
    "    '''\n",
    "    Replace values to allow more input with the same output. Better for dealing with users and user input\n",
    "    '''\n",
    "\n",
    "    if inputCalculation == 'Error':\n",
    "        return inputCalculation\n",
    "\n",
    "    inputCalculation = inputCalculation.replace('2pi', 'tau')\n",
    "    inputCalculation = inputCalculation.replace('2π', 'tau')\n",
    "    inputCalculation = inputCalculation.replace('2*pi', 'tau')\n",
    "    inputCalculation = inputCalculation.replace('2*π', 'tau')\n",
    "\n",
    "    return inputCalculation\n",
    "\n",
    "\n",
    "def calculatorSqrt(inputCalculation):\n",
    "    '''\n",
    "    Process sqrt function in user input\n",
    "    '''\n",
    "\n",
    "    if inputCalculation == 'Error':\n",
    "        return inputCalculation\n",
    "\n",
    "    try:\n",
    "\n",
    "        for digit in list(inputCalculation):\n",
    "        \n",
    "            if digit == '√':\n",
    "                \n",
    "                rootAt = inputCalculation.index('√')\n",
    "                cleaner = ''\n",
    "                \n",
    "                count = rootAt\n",
    "                while count < len(inputCalculation):\n",
    "                    count += 1\n",
    "                    if not inputCalculation[count:count + 1].isnumeric() and inputCalculation[count:count + 1] != '.':\n",
    "                        break\n",
    "                \n",
    "                i = rootAt\n",
    "                while i >= 0:\n",
    "                    if inputCalculation[i:i + 1] == ')' or inputCalculation[i:i + 1].isnumeric():\n",
    "                        cleaner = '*'\n",
    "                        break\n",
    "                    elif inputCalculation[i:i + 1] == '+' or inputCalculation[i:i + 1] == '-' or inputCalculation[i:i + 1] == '/' or inputCalculation[i:i + 1] == '*' or inputCalculation[i:i + 1] == '(':\n",
    "                        break\n",
    "                    i -= 1\n",
    "\n",
    "                if inputCalculation[rootAt + 1: count] == '':\n",
    "                    raise BaseException\n",
    "\n",
    "                value = repr(sqrt(float(inputCalculation[rootAt + 1: count])))\n",
    "                                \n",
    "                inputCalculation = inputCalculation[:rootAt] + cleaner + value + inputCalculation[count:]\n",
    "\n",
    "    except BaseException:\n",
    "        return 'Error'\n",
    "\n",
    "    return inputCalculation\n",
    "\n",
    "\n",
    "def calculatorPower(inputCalculation):\n",
    "    '''\n",
    "    Proccess ^ into math.pow function\n",
    "    '''\n",
    "\n",
    "    if inputCalculation == 'Error':\n",
    "        return inputCalculation\n",
    "\n",
    "    try:\n",
    "\n",
    "        for digit in list(inputCalculation):\n",
    "\n",
    "            if digit == '^':\n",
    "            \n",
    "                powerAt = inputCalculation.index('^')\n",
    "                \n",
    "                value1 = 0\n",
    "                value2 = 0\n",
    "                start = 0\n",
    "                end = 0\n",
    "                \n",
    "                print(inputCalculation[powerAt - 1:powerAt])\n",
    "                if inputCalculation[powerAt - 1:powerAt].isnumeric():\n",
    "                    \n",
    "                    count = powerAt\n",
    "                    print(inputCalculation[powerAt: powerAt + 1])\n",
    "\n",
    "                    while count > 0:\n",
    "                        count -= 1\n",
    "                        if not inputCalculation[count:count + 1].isnumeric() and inputCalculation[count:count + 1] != '.':\n",
    "                            break\n",
    "\n",
    "                    print(inputCalculation[count:powerAt])\n",
    "                    value1 = calculatorMain(inputCalculation[count:powerAt])\n",
    "                    start = count - 1\n",
    "\n",
    "                elif inputCalculation[powerAt - 1:powerAt] == ')':\n",
    "                    \n",
    "                    count = powerAt - 1\n",
    "                    notFound = True\n",
    "                    \n",
    "                    while count > 0 and notFound:\n",
    "                        count -= 1\n",
    "                        if inputCalculation[count:count + 1] == '(':\n",
    "                            notFound = False\n",
    "                    \n",
    "                    if notFound:\n",
    "                        raise BaseException\n",
    "    \n",
    "                    value1 = calculatorMain(inputCalculation[count + 1:powerAt - 1])\n",
    "                    start = count - 1\n",
    "                    \n",
    "                if inputCalculation[powerAt + 1:powerAt + 2].isnumeric():\n",
    "                    \n",
    "                    count = powerAt\n",
    "                    notFound = True\n",
    "\n",
    "                    while count < len(inputCalculation) and notFound:\n",
    "                        count += 1\n",
    "                        if not inputCalculation[count:count + 1].isnumeric() and inputCalculation[count:count + 1] != '.':\n",
    "                            notFound = False\n",
    "                    \n",
    "                    value2 = calculatorMain(inputCalculation[powerAt + 1:count])\n",
    "                    end = count + 1\n",
    "\n",
    "                elif inputCalculation[powerAt + 1:powerAt + 2] == '(':\n",
    "                    \n",
    "                    count = powerAt + 1\n",
    "                    notFound = True\n",
    "                    \n",
    "                    while count < len(inputCalculation) and notFound:\n",
    "                        count += 1\n",
    "                        if inputCalculation[count:count + 1] == ')':\n",
    "                            notFound = False\n",
    "                    \n",
    "                    if notFound:\n",
    "                        error = True\n",
    "                    value2 = calculatorMain(inputCalculation[powerAt + 2:count])\n",
    "                    end = count + 2\n",
    "                \n",
    "                value = repr(pow(float(value1), float(value2)))\n",
    "\n",
    "                inputCalculation = inputCalculation[:start + 1] + value + inputCalculation[end - 1:]\n",
    "\n",
    "    except BaseException as e:\n",
    "        return 'Error'\n",
    "\n",
    "    return inputCalculation"
   ]
  },
  {
   "cell_type": "code",
   "execution_count": 23,
   "metadata": {},
   "outputs": [
    {
     "name": "stdout",
     "output_type": "stream",
     "text": [
      "365.7977272655691\n",
      "Error\n",
      "243\n"
     ]
    }
   ],
   "source": [
    "print(calculatorMain('5 √5207+5'))\n",
    "print(calculatorMain('25+5+ (9^2)^(1/2)+5+ 9^2'))\n",
    "print(calculatorMain('3^5'))"
   ]
  },
  {
   "cell_type": "code",
   "execution_count": 24,
   "metadata": {},
   "outputs": [
    {
     "data": {
      "text/plain": [
       "11"
      ]
     },
     "execution_count": 24,
     "metadata": {},
     "output_type": "execute_result"
    }
   ],
   "source": [
    "eval('5-(-6)')"
   ]
  },
  {
   "cell_type": "code",
   "execution_count": 25,
   "metadata": {},
   "outputs": [
    {
     "data": {
      "text/plain": [
       "25"
      ]
     },
     "execution_count": 25,
     "metadata": {},
     "output_type": "execute_result"
    }
   ],
   "source": [
    "eval('(25)')"
   ]
  },
  {
   "cell_type": "code",
   "execution_count": 51,
   "metadata": {},
   "outputs": [
    {
     "name": "stdout",
     "output_type": "stream",
     "text": [
      "5\n",
      "^\n",
      ")5\n",
      "Error\n"
     ]
    }
   ],
   "source": [
    "print(calculatorPower(')5^2('))"
   ]
  },
  {
   "cell_type": "code",
   "execution_count": 9,
   "metadata": {},
   "outputs": [],
   "source": [
    "def cleanValue(value):\n",
    "    '''\n",
    "    Clean up integers that end in .0\n",
    "    '''\n",
    "\n",
    "    if value is None:\n",
    "        return value\n",
    "\n",
    "    if isinstance(value, float) and value.is_integer():\n",
    "        return int(value)\n",
    "\n",
    "    return value\n",
    "\n",
    "def calculatorMain(inputCalculation):\n",
    "\n",
    "    π = pi\n",
    "\n",
    "    inputCalculation = calculatorCleaning(inputCalculation)\n",
    "    while True:\n",
    "        start, end = findParenthesis(inputCalculation)\n",
    "        if(start == -1 and end == -1):\n",
    "            break\n",
    "        inputCalculation = calculatorProcessing(inputCalculation, start, end)\n",
    "\n",
    "    if inputCalculation == 'Error':\n",
    "        return 'Error'\n",
    "\n",
    "    return repr(cleanValue(eval(inputCalculation)))\n",
    "\n",
    "def calculatorProcessing(inputCalculation, starting, ending):\n",
    "    \n",
    "    value = calculatorCalculation(inputCalculation[starting + 1: ending])\n",
    "    \n",
    "    newInputCalculation = inputCalculation[:starting] + value + inputCalculation[ending + 1:]\n",
    "    \n",
    "    return newInputCalculation\n",
    "\n",
    "def calculatorCalculation(inputCalculation):\n",
    "    \n",
    "    #inputCalculation = calculatorSqrt(inputCalculation)\n",
    "    \n",
    "    return repr(cleanValue(eval(inputCalculation)))\n",
    "\n",
    "def calculatorCleaning(inputCalculation):\n",
    "    '''\n",
    "    Replace values to allow more input with the same output. Better for dealing with users and user input\n",
    "    '''\n",
    "\n",
    "    if inputCalculation == 'Error':\n",
    "        return inputCalculation\n",
    "\n",
    "    inputCalculation = inputCalculation.replace('2pi', 'tau')\n",
    "    inputCalculation = inputCalculation.replace('2π', 'tau')\n",
    "    inputCalculation = inputCalculation.replace('2*pi', 'tau')\n",
    "    inputCalculation = inputCalculation.replace('2*π', 'tau')\n",
    "    inputCalculation = ''.join(inputCalculation.split())\n",
    "        \n",
    "    return inputCalculation\n",
    "\n",
    "def findParenthesis(inputCalculation):\n",
    "    starting = -1\n",
    "    ending = -1\n",
    "    \n",
    "    i = len(inputCalculation)\n",
    "    while i >= 0:\n",
    "        i -= 1\n",
    "        if inputCalculation[i: i + 1] == '(':\n",
    "            starting = i\n",
    "            break\n",
    "    \n",
    "    while i < len(inputCalculation):\n",
    "        if inputCalculation[i: i + 1] == ')':\n",
    "            ending = i\n",
    "            break\n",
    "        i += 1\n",
    "\n",
    "    return starting, ending\n",
    "\n",
    "def findParenthesisList(inputCalculation):\n",
    "    starting = []\n",
    "    ending = []\n",
    "    \n",
    "    i = len(inputCalculation)\n",
    "    while i >= 0:\n",
    "        i -= 1\n",
    "        if inputCalculation[i: i + 1] == '(':\n",
    "            starting.append(i)\n",
    "    \n",
    "    while i < len(inputCalculation):\n",
    "        if inputCalculation[i: i + 1] == ')':\n",
    "            endinga.append(i)\n",
    "        i += 1\n",
    "\n",
    "    return starting, ending\n",
    "\n",
    "def preProccessParenthesis(inputCalculation, starting, ending):\n",
    "    pass\n",
    "\n",
    "def calculatorSqrt(inputCalculation):\n",
    "    '''\n",
    "    Process sqrt function in user input\n",
    "    '''\n",
    "\n",
    "    if 'Error' in inputCalculation:\n",
    "        return 'Error'\n",
    "\n",
    "    try:\n",
    "\n",
    "        for digit in list(inputCalculation):\n",
    "        \n",
    "            if digit == '√':\n",
    "                \n",
    "                rootAt = inputCalculation.index('√')\n",
    "                cleaner = ''\n",
    "                \n",
    "                count = rootAt\n",
    "                while count < len(inputCalculation):\n",
    "                    count += 1\n",
    "                    if not inputCalculation[count:count + 1].isnumeric() and inputCalculation[count:count + 1] != '.':\n",
    "                        break\n",
    "                \n",
    "                i = rootAt\n",
    "                while i >= 0:\n",
    "                    if inputCalculation[i:i + 1] == ')' or inputCalculation[i:i + 1].isnumeric():\n",
    "                        cleaner = '*'\n",
    "                        break\n",
    "                    elif inputCalculation[i:i + 1] == '+' or inputCalculation[i:i + 1] == '-' or inputCalculation[i:i + 1] == '/' or inputCalculation[i:i + 1] == '*' or inputCalculation[i:i + 1] == '(':\n",
    "                        break\n",
    "                    i -= 1\n",
    "\n",
    "                if inputCalculation[rootAt + 1: count] == '':\n",
    "                    raise BaseException\n",
    "\n",
    "                value = repr(sqrt(float(inputCalculation[rootAt + 1: count])))\n",
    "                                \n",
    "                inputCalculation = inputCalculation[:rootAt] + cleaner + value + inputCalculation[count:]\n",
    "\n",
    "    except BaseException:\n",
    "        return 'Error'\n",
    "\n",
    "    return inputCalculation"
   ]
  },
  {
   "cell_type": "code",
   "execution_count": 30,
   "metadata": {},
   "outputs": [
    {
     "name": "stdout",
     "output_type": "stream",
     "text": [
      "5+tau+77\n"
     ]
    }
   ],
   "source": [
    "print(calculatorCleaning('5 + 2π + 77'))"
   ]
  },
  {
   "cell_type": "code",
   "execution_count": 34,
   "metadata": {},
   "outputs": [
    {
     "name": "stdout",
     "output_type": "stream",
     "text": [
      "10\n",
      "12\n"
     ]
    }
   ],
   "source": [
    "test = '6+(5+(5))+(7)'\n",
    "forward, backward = findParenthesis(test)\n",
    "print(forward)\n",
    "print(backward)"
   ]
  },
  {
   "cell_type": "code",
   "execution_count": 7,
   "metadata": {},
   "outputs": [
    {
     "name": "stdout",
     "output_type": "stream",
     "text": [
      "5+13+7\n"
     ]
    }
   ],
   "source": [
    "print(calculatorProcessing('5+(6+7)+7', 2, 6))"
   ]
  },
  {
   "cell_type": "code",
   "execution_count": 14,
   "metadata": {},
   "outputs": [
    {
     "name": "stdout",
     "output_type": "stream",
     "text": [
      "177\n"
     ]
    }
   ],
   "source": [
    "print(calculatorMain('5+(5+(6+7)+((77*2)))'))"
   ]
  },
  {
   "cell_type": "code",
   "execution_count": null,
   "metadata": {},
   "outputs": [],
   "source": []
  },
  {
   "cell_type": "code",
   "execution_count": null,
   "metadata": {},
   "outputs": [],
   "source": []
  }
 ],
 "metadata": {
  "kernelspec": {
   "display_name": "Python 3",
   "language": "python",
   "name": "python3"
  },
  "language_info": {
   "codemirror_mode": {
    "name": "ipython",
    "version": 3
   },
   "file_extension": ".py",
   "mimetype": "text/x-python",
   "name": "python",
   "nbconvert_exporter": "python",
   "pygments_lexer": "ipython3",
   "version": "3.8.1"
  }
 },
 "nbformat": 4,
 "nbformat_minor": 4
}
