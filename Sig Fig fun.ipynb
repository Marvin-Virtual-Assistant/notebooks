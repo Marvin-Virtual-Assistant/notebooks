{
 "cells": [
  {
   "cell_type": "code",
   "execution_count": 25,
   "metadata": {},
   "outputs": [],
   "source": [
    "import decimal\n",
    "\n",
    "def count_sig_figs(value):\n",
    "    '''\n",
    "    Count the sigfigs of a value\n",
    "    '''\n",
    "\n",
    "    if value == 0 or abs(value) == 9.8:\n",
    "        return 90000\n",
    "\n",
    "    sig_fig_count = 0\n",
    "    num_list = list(float_to_str(abs(value)))\n",
    "\n",
    "    decimalIndex = -1\n",
    "\n",
    "    try:\n",
    "        decimalIndex = num_list.index('.')\n",
    "\n",
    "    except ValueError:\n",
    "        pass\n",
    "\n",
    "    if decimalIndex == -1:\n",
    "\n",
    "        nonZeroFound = False\n",
    "\n",
    "        for numbers in num_list[::-1]:\n",
    "\n",
    "            if numbers != '0':\n",
    "                nonZeroFound = True\n",
    "                sig_fig_count += 1\n",
    "\n",
    "            elif numbers == '0' and nonZeroFound:\n",
    "                sig_fig_count += 1\n",
    "                \n",
    "    else:\n",
    "        \n",
    "        nonZeroFound = False\n",
    "        \n",
    "        removed = num_list.pop(decimalIndex)\n",
    "\n",
    "        for numbers in num_list:\n",
    "\n",
    "            if numbers != '0':\n",
    "                nonZeroFound = True\n",
    "                sig_fig_count += 1\n",
    "\n",
    "            elif numbers == '0' and nonZeroFound:\n",
    "                sig_fig_count += 1\n",
    "\n",
    "    return sig_fig_count\n",
    "\n",
    "def float_to_str(f):\n",
    "    ctx = decimal.Context()\n",
    "    ctx.prec = 100\n",
    "    \"\"\"\n",
    "    Convert the given float to a string,\n",
    "    without resorting to scientific notation\n",
    "    \"\"\"\n",
    "    d1 = ctx.create_decimal(repr(f))\n",
    "    return format(d1, 'f')\n",
    "\n",
    "\n",
    "def assertEqual(value, equalTo):\n",
    "    assert value == equalTo\n",
    "\n",
    "def assertTrue(value):\n",
    "    assert value == True\n",
    "\n",
    "def assertFalse(value):\n",
    "    assert value == False\n",
    "\n",
    "def test_sig_fig_counter_for_one():\n",
    "    valuesToTest = [20, 700, 0.7, 0.009, 1000, 5, -2, -0.03, -0.2]\n",
    "    for value in valuesToTest:\n",
    "        print(count_sig_figs(value) == 1)\n",
    "\n",
    "\n",
    "def test_sig_fig_counter_for_two():\n",
    "    valuesToTest = [22, 250, 0.23, 0.0055, 51000, -77, -0.53, -0.0034]\n",
    "    for value in valuesToTest:\n",
    "        print(count_sig_figs(value) == 2)\n",
    "\n",
    "\n",
    "def test_sig_fig_counter_for_three():\n",
    "    valuesToTest = [265, 1250, 0.434, 0.0155, 512, 1.23,\n",
    "                    0.701, -826, -93300, -0.234, 0.903, -0.000999, 50.2]\n",
    "    for value in valuesToTest:\n",
    "        print(count_sig_figs(value) == 3)\n",
    "\n",
    "\n",
    "def test_sig_fig_counter_for_four():\n",
    "    valuesToTest = [1011, 4567, 56.71, 123.7, 1.348, 0.01234,\n",
    "                    0.0004444, -7729, -2787000, -0.8633, -0.2703, -0.002048, 700.3]\n",
    "    for value in valuesToTest:\n",
    "        print(count_sig_figs(value) == 4)\n",
    "\n",
    "\n",
    "def test_sig_fig_counter_for_90000():\n",
    "    valuesToTest = [9.8, 0, -9.8]\n",
    "    for value in valuesToTest:\n",
    "        print(count_sig_figs(value) == 90000)\n",
    "\n",
    "        \n"
   ]
  },
  {
   "cell_type": "code",
   "execution_count": 19,
   "metadata": {},
   "outputs": [
    {
     "name": "stdout",
     "output_type": "stream",
     "text": [
      "True\n",
      "True\n",
      "True\n",
      "True\n",
      "True\n",
      "True\n",
      "True\n",
      "True\n",
      "True\n"
     ]
    }
   ],
   "source": [
    "test_sig_fig_counter_for_one()"
   ]
  },
  {
   "cell_type": "code",
   "execution_count": 21,
   "metadata": {},
   "outputs": [
    {
     "name": "stdout",
     "output_type": "stream",
     "text": [
      "True\n",
      "True\n",
      "True\n",
      "True\n",
      "True\n",
      "True\n",
      "True\n",
      "True\n"
     ]
    }
   ],
   "source": [
    "test_sig_fig_counter_for_two()"
   ]
  },
  {
   "cell_type": "code",
   "execution_count": 22,
   "metadata": {},
   "outputs": [
    {
     "name": "stdout",
     "output_type": "stream",
     "text": [
      "True\n",
      "True\n",
      "True\n",
      "True\n",
      "True\n",
      "True\n",
      "True\n",
      "True\n",
      "True\n",
      "True\n",
      "True\n",
      "True\n",
      "True\n"
     ]
    }
   ],
   "source": [
    "test_sig_fig_counter_for_three()"
   ]
  },
  {
   "cell_type": "code",
   "execution_count": 23,
   "metadata": {},
   "outputs": [
    {
     "name": "stdout",
     "output_type": "stream",
     "text": [
      "True\n",
      "True\n",
      "True\n",
      "True\n",
      "True\n",
      "True\n",
      "True\n",
      "True\n",
      "True\n",
      "True\n",
      "True\n",
      "True\n",
      "True\n"
     ]
    }
   ],
   "source": [
    "test_sig_fig_counter_for_four()"
   ]
  },
  {
   "cell_type": "code",
   "execution_count": 26,
   "metadata": {},
   "outputs": [
    {
     "name": "stdout",
     "output_type": "stream",
     "text": [
      "True\n",
      "True\n",
      "True\n"
     ]
    }
   ],
   "source": [
    "test_sig_fig_counter_for_90000()"
   ]
  },
  {
   "cell_type": "code",
   "execution_count": 61,
   "metadata": {},
   "outputs": [],
   "source": [
    "def count_sig_figs(value):\n",
    "    '''\n",
    "    Count the sigfigs of a value\n",
    "    '''\n",
    "\n",
    "    if float(value) == 0.0 or abs(float(value)) == 9.8:\n",
    "        return 90000\n",
    "\n",
    "    sig_fig_count = 0\n",
    "    num_list = list(value)\n",
    "\n",
    "    if num_list[0] == '-':\n",
    "        remove = num_list.pop(0)\n",
    "\n",
    "    decimalIndex = -1\n",
    "\n",
    "    try:\n",
    "        decimalIndex = num_list.index('.')\n",
    "\n",
    "    except ValueError:\n",
    "        pass\n",
    "\n",
    "    if decimalIndex == -1:\n",
    "\n",
    "        nonZeroFound = False\n",
    "\n",
    "        for numbers in num_list[::-1]:\n",
    "\n",
    "            if numbers != '0':\n",
    "                nonZeroFound = True\n",
    "                sig_fig_count += 1\n",
    "\n",
    "            elif numbers == '0' and nonZeroFound:\n",
    "                sig_fig_count += 1\n",
    "\n",
    "    else:\n",
    "\n",
    "        if float(value).is_integer():\n",
    "\n",
    "            removed = num_list.pop(decimalIndex)\n",
    "            \n",
    "            sig_fig_count = len(num_list)\n",
    "\n",
    "        else:\n",
    "\n",
    "            nonZeroFound = False\n",
    "\n",
    "            removed = num_list.pop(decimalIndex)\n",
    "\n",
    "            for numbers in num_list:\n",
    "\n",
    "                if numbers != '0':\n",
    "                    nonZeroFound = True\n",
    "                    sig_fig_count += 1\n",
    "\n",
    "                elif numbers == '0' and nonZeroFound:\n",
    "                    sig_fig_count += 1\n",
    "\n",
    "    return sig_fig_count"
   ]
  },
  {
   "cell_type": "code",
   "execution_count": 68,
   "metadata": {},
   "outputs": [],
   "source": [
    "def assertEqual(value, equalTo):\n",
    "    print(value == equalTo)\n",
    "\n",
    "def test_sig_fig_counter_for_one():\n",
    "    valuesToTest = ['20', '700', '0.7', '0.009', '1000', '5', '-2', '-0.03', '-0.2']\n",
    "    for value in valuesToTest:\n",
    "        assertEqual(count_sig_figs(value), 1)\n",
    "\n",
    "\n",
    "def test_sig_fig_counter_for_two():\n",
    "    valuesToTest = ['22', '250','0.23', '0.0055', '51000',\n",
    "                    '-77', '-0.53', '-0.0034', '92', '0.0055', '4.5', '34','-0.000034', '5.0', '1.0']\n",
    "    for value in valuesToTest:\n",
    "        assertEqual(count_sig_figs(value), 2)\n",
    "\n",
    "\n",
    "def test_sig_fig_counter_for_three():\n",
    "    valuesToTest = ['265', '1250', '0.434', '0.0155', '512', '1.23', '0.701',\n",
    "                    '-826', '-93300', '-0.234', '0.903','-0.000999', '50.2', '345', '34.1', '20.0', '4.00', '80.0', '-21.0']\n",
    "    for value in valuesToTest:\n",
    "        assertEqual(count_sig_figs(value), 3)\n",
    "\n",
    "\n",
    "def test_sig_fig_counter_for_four():\n",
    "    valuesToTest = ['1011', '4567', '56.71', '123.7', '1.348', '0.01234', '0.0004444', '-7729',\n",
    "                    '-2787000', '-0.8633', '-0.2703', '-0.002048', '700.3','200.2', '30.22', '932.0', '204.0', '23.00', '-2.000', '900.0']\n",
    "    for value in valuesToTest:\n",
    "        assertEqual(count_sig_figs(value), 4)\n",
    "\n",
    "\n",
    "def test_sig_fig_counter_for_90000():\n",
    "    valuesToTest = ['9.8', '0', '-9.8']\n",
    "    for value in valuesToTest:\n",
    "        assertEqual(count_sig_figs(value), 90000)"
   ]
  },
  {
   "cell_type": "code",
   "execution_count": 56,
   "metadata": {},
   "outputs": [
    {
     "name": "stdout",
     "output_type": "stream",
     "text": [
      "True\n",
      "True\n",
      "True\n",
      "True\n",
      "True\n",
      "True\n",
      "True\n",
      "True\n",
      "True\n"
     ]
    }
   ],
   "source": [
    "test_sig_fig_counter_for_one()"
   ]
  },
  {
   "cell_type": "code",
   "execution_count": 69,
   "metadata": {},
   "outputs": [
    {
     "name": "stdout",
     "output_type": "stream",
     "text": [
      "True\n",
      "True\n",
      "True\n",
      "True\n",
      "True\n",
      "True\n",
      "True\n",
      "True\n",
      "True\n",
      "True\n",
      "True\n",
      "True\n",
      "False\n",
      "True\n",
      "True\n"
     ]
    }
   ],
   "source": [
    "test_sig_fig_counter_for_two()"
   ]
  },
  {
   "cell_type": "code",
   "execution_count": 65,
   "metadata": {},
   "outputs": [
    {
     "name": "stdout",
     "output_type": "stream",
     "text": [
      "True\n",
      "True\n",
      "True\n",
      "True\n",
      "True\n",
      "True\n",
      "True\n",
      "True\n",
      "True\n",
      "True\n",
      "True\n",
      "True\n",
      "True\n",
      "True\n",
      "True\n",
      "True\n",
      "True\n",
      "True\n",
      "True\n"
     ]
    }
   ],
   "source": [
    "test_sig_fig_counter_for_three()"
   ]
  },
  {
   "cell_type": "code",
   "execution_count": 66,
   "metadata": {},
   "outputs": [
    {
     "name": "stdout",
     "output_type": "stream",
     "text": [
      "True\n",
      "True\n",
      "True\n",
      "True\n",
      "True\n",
      "True\n",
      "True\n",
      "True\n",
      "True\n",
      "True\n",
      "True\n",
      "True\n",
      "True\n",
      "True\n",
      "True\n",
      "True\n",
      "True\n",
      "True\n",
      "True\n",
      "True\n"
     ]
    }
   ],
   "source": [
    "test_sig_fig_counter_for_four()"
   ]
  },
  {
   "cell_type": "code",
   "execution_count": 67,
   "metadata": {},
   "outputs": [
    {
     "name": "stdout",
     "output_type": "stream",
     "text": [
      "True\n",
      "True\n",
      "True\n"
     ]
    }
   ],
   "source": [
    "test_sig_fig_counter_for_90000()"
   ]
  },
  {
   "cell_type": "code",
   "execution_count": null,
   "metadata": {},
   "outputs": [],
   "source": [
    "print()"
   ]
  }
 ],
 "metadata": {
  "kernelspec": {
   "display_name": "Python 3",
   "language": "python",
   "name": "python3"
  },
  "language_info": {
   "codemirror_mode": {
    "name": "ipython",
    "version": 3
   },
   "file_extension": ".py",
   "mimetype": "text/x-python",
   "name": "python",
   "nbconvert_exporter": "python",
   "pygments_lexer": "ipython3",
   "version": "3.8.1"
  }
 },
 "nbformat": 4,
 "nbformat_minor": 4
}
